{
 "cells": [
  {
   "cell_type": "code",
   "execution_count": 13,
   "metadata": {},
   "outputs": [],
   "source": [
    "import sqlite3 as sql3\n",
    "import pandas as pd\n",
    "import os\n",
    "\n",
    "# Caminho para o arquivo CSV\n",
    "caminho_arquivo = os.path.join('../../database', 'Pokemon.csv')\n",
    "\n",
    "# Caminho absoluto para o arquivo\n",
    "nome_csv = os.path.abspath(caminho_arquivo)\n",
    "nome_banco = os.path.abspath('../../database/Pokemon.db')\n",
    "\n",
    "# Conectando ao banco e importando o CSV usando pandas\n",
    "conexao = sql3.connect(nome_banco)\n",
    "df = pd.read_csv(nome_csv)"
   ]
  },
  {
   "cell_type": "code",
   "execution_count": 14,
   "metadata": {},
   "outputs": [
    {
     "data": {
      "text/plain": [
       "18"
      ]
     },
     "execution_count": 14,
     "metadata": {},
     "output_type": "execute_result"
    }
   ],
   "source": [
    "# Criando a tabela 'types' no banco de dados\n",
    "types = pd.DataFrame(df['Type 1'].unique(), columns=['Type 1'])\n",
    "types.rename(columns={'Type 1': 'type'}, inplace=True)\n",
    "types.reset_index(inplace=True)\n",
    "types.rename(columns={'index': 'id'}, inplace=True)\n",
    "\n",
    "# Exportando a tabela 'types' para o banco de dados\n",
    "types.to_sql('types', conexao, if_exists='replace', index=False)"
   ]
  },
  {
   "cell_type": "code",
   "execution_count": 15,
   "metadata": {},
   "outputs": [
    {
     "data": {
      "text/plain": [
       "6"
      ]
     },
     "execution_count": 15,
     "metadata": {},
     "output_type": "execute_result"
    }
   ],
   "source": [
    "# Criando a tabela 'generation' no banco de dados\n",
    "generation = pd.DataFrame(df['Generation'].unique(), columns=['Generation'])\n",
    "generation.reset_index(inplace=True)\n",
    "generation.rename(columns={'index': 'id'}, inplace=True)\n",
    "generation.to_sql('generation', conexao, if_exists='replace', index=False)\n"
   ]
  },
  {
   "cell_type": "code",
   "execution_count": 16,
   "metadata": {},
   "outputs": [],
   "source": [
    "# Atualizando as gerações no dataframe\n",
    "consulta = '''SELECT id, Generation FROM generation;'''\n",
    "ids = pd.read_sql_query(consulta, conexao)\n",
    "for x in ids['id']:\n",
    "    y = ids[ids['id'] == x]['Generation'].iloc[0]\n",
    "    df.loc[df['Generation'] == y, 'Generation'] = x\n",
    "\n",
    "# Atualizando os tipos no dataframe\n",
    "consulta = '''SELECT id, type FROM types;'''\n",
    "ids = pd.read_sql_query(consulta, conexao)\n",
    "\n",
    "# Recarregando o CSV original para atualizar os tipos\n",
    "pk = pd.read_csv(nome_csv)\n",
    "for x in ids['id']:\n",
    "    y = ids[ids['id'] == x]['type'].iloc[0]\n",
    "    pk.loc[pk['Type 1'] == y, 'Type 1'] = x\n",
    "    pk.loc[pk['Type 2'] == y, 'Type 2'] = x\n",
    "\n",
    "# Substituindo valores NaN em 'Type 1' e 'Type 2' por string vazia\n",
    "pk.loc[pk['Type 1'].isna(), 'Type 1'] = None\n",
    "pk.loc[pk['Type 2'].isna(), 'Type 2'] = None"
   ]
  },
  {
   "cell_type": "code",
   "execution_count": 17,
   "metadata": {},
   "outputs": [
    {
     "data": {
      "text/plain": [
       "750"
      ]
     },
     "execution_count": 17,
     "metadata": {},
     "output_type": "execute_result"
    }
   ],
   "source": [
    "# Remover Pokémon com nome que contém \"Mega\"\n",
    "pk1 = pk[~pk['Name'].str.contains('Mega ', case=False, na=False)]\n",
    "pk1 = pk1[~pk1['Name'].str.contains('Primal', case=False, na=False)]\n",
    "\n",
    "# Selecionando as colunas que você quer\n",
    "pk1 = pk1[['Name', 'Type 1', 'Type 2', 'Total', 'HP', 'Attack', 'Defense', 'Sp. Atk', 'Sp. Def', 'Speed', 'Generation', 'Legendary']]\n",
    "\n",
    "# Resetando o índice e renomeando a coluna de índice\n",
    "pk1.reset_index(inplace=True)\n",
    "pk1.rename(columns={'index': 'id','Sp. Def':'SpDef','Sp. Atk':'SpAtk','Type 1':'Type1','Type 2':'Type2'}, inplace=True)\n",
    "\n",
    "# Atualizando a coluna 'Generation' no DataFrame pk1 com os IDs correspondentes\n",
    "contagem=0\n",
    "for index, row in generation.iterrows():\n",
    "    pk1.loc[pk1['Generation'] == row['Generation'], 'Generation'] = row['id']\n",
    "    contagem+=1\n",
    "# Salvando o DataFrame final na tabela 'pokemon'\n",
    "id_list=[int(x) for x in range(len(pk1))]\n",
    "pk1['id']=id_list\n",
    "pk1.to_sql('pokemon', conexao, if_exists='replace', index=False)"
   ]
  },
  {
   "cell_type": "code",
   "execution_count": 18,
   "metadata": {},
   "outputs": [
    {
     "name": "stderr",
     "output_type": "stream",
     "text": [
      "/tmp/ipykernel_2042/1929537803.py:3: SettingWithCopyWarning: \n",
      "A value is trying to be set on a copy of a slice from a DataFrame\n",
      "\n",
      "See the caveats in the documentation: https://pandas.pydata.org/pandas-docs/stable/user_guide/indexing.html#returning-a-view-versus-a-copy\n",
      "  pk2.drop(columns=['Generation', 'Legendary'], inplace=True)\n",
      "/tmp/ipykernel_2042/1929537803.py:4: SettingWithCopyWarning: \n",
      "A value is trying to be set on a copy of a slice from a DataFrame\n",
      "\n",
      "See the caveats in the documentation: https://pandas.pydata.org/pandas-docs/stable/user_guide/indexing.html#returning-a-view-versus-a-copy\n",
      "  pk2.rename(columns={'#': 'id','Sp. Def':'SpDef','Sp. Atk':'SpAtk','Type 1':'Type1','Type 2':'Type2'}, inplace=True)\n",
      "/tmp/ipykernel_2042/1929537803.py:39: SettingWithCopyWarning: \n",
      "A value is trying to be set on a copy of a slice from a DataFrame.\n",
      "Try using .loc[row_indexer,col_indexer] = value instead\n",
      "\n",
      "See the caveats in the documentation: https://pandas.pydata.org/pandas-docs/stable/user_guide/indexing.html#returning-a-view-versus-a-copy\n",
      "  pk2['original'] = original_id\n",
      "/tmp/ipykernel_2042/1929537803.py:40: SettingWithCopyWarning: \n",
      "A value is trying to be set on a copy of a slice from a DataFrame.\n",
      "Try using .loc[row_indexer,col_indexer] = value instead\n",
      "\n",
      "See the caveats in the documentation: https://pandas.pydata.org/pandas-docs/stable/user_guide/indexing.html#returning-a-view-versus-a-copy\n",
      "  pk2['id'] = new_ids\n"
     ]
    }
   ],
   "source": [
    "pk2 = pk[pk['Name'].str.contains('Mega |Primal', case=False, na=False)]\n",
    "# Removendo as colunas 'Generation' e 'Legendary'\n",
    "pk2.drop(columns=['Generation', 'Legendary'], inplace=True)\n",
    "pk2.rename(columns={'#': 'id','Sp. Def':'SpDef','Sp. Atk':'SpAtk','Type 1':'Type1','Type 2':'Type2'}, inplace=True)\n",
    "# Consulta para pegar os ids dos Pokémon\n",
    "consulta = '''SELECT id, Name FROM pokemon;'''\n",
    "ids = pd.read_sql_query(consulta, conexao)\n",
    "\n",
    "# Inicializando listas para IDs e contagem\n",
    "original_id = []\n",
    "new_ids = []\n",
    "contagem = 0\n",
    "\n",
    "# Atualizando as Mega Evoluções\n",
    "for index, row in pk2.iterrows():\n",
    "    mega_name = row['Name']\n",
    "    \n",
    "    # Tentando pegar o nome original, caso seja composto por mais de uma palavra\n",
    "    split_name = mega_name.split(' ')\n",
    "    original_name = ' '.join(split_name[1:]) if len(split_name) > 1 else split_name[0]\n",
    "    \n",
    "    # Buscando o id do Pokémon original\n",
    "    try:\n",
    "        original_pokemon = split_name[1]  # nome do Pokémon original, assume-se que está na segunda posição\n",
    "        query = f\"SELECT id FROM pokemon WHERE Name = '{original_pokemon}'\"\n",
    "        original_id_value = conexao.execute(query).fetchone()[0]  # Pegando o ID do Pokémon original\n",
    "        original_id.append(original_id_value)\n",
    "    except (IndexError, TypeError) as e:\n",
    "        print(f\"Pokémon original '{mega_name}' não encontrado no banco de dados.\")\n",
    "        original_id.append(None)  # Adicionando None caso não encontre\n",
    "        continue  # Pula para a próxima iteração se o Pokémon original não for encontrado\n",
    "\n",
    "    # Atualizando o nome e ID no DataFrame\n",
    "    pk2.loc[pk2['Name'] == mega_name, 'Name'] = original_name\n",
    "    new_ids.append(contagem)  # Adicionando o índice de contagem para associar ao Pokémon Mega\n",
    "    contagem += 1\n",
    "\n",
    "# Atribuindo os IDs e original_id às novas colunas\n",
    "pk2['original'] = original_id\n",
    "pk2['id'] = new_ids\n",
    "\n",
    "# Salvando as Mega Evoluções no banco de dados\n",
    "pk2.to_sql('Mega', conexao, if_exists='replace', index=False)\n",
    "\n",
    "# Fechando a conexão com o banco de dados\n",
    "conexao.close()"
   ]
  },
  {
   "cell_type": "code",
   "execution_count": null,
   "metadata": {},
   "outputs": [],
   "source": []
  }
 ],
 "metadata": {
  "kernelspec": {
   "display_name": "Python 3",
   "language": "python",
   "name": "python3"
  },
  "language_info": {
   "codemirror_mode": {
    "name": "ipython",
    "version": 3
   },
   "file_extension": ".py",
   "mimetype": "text/x-python",
   "name": "python",
   "nbconvert_exporter": "python",
   "pygments_lexer": "ipython3",
   "version": "3.10.12"
  }
 },
 "nbformat": 4,
 "nbformat_minor": 2
}
